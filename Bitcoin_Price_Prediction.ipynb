{
 "cells": [
  {
   "cell_type": "markdown",
   "metadata": {},
   "source": [
    "# Bitcoin Price Prediction using LSTM\n",
    "\n",
    "In this project, we aim to predict the future price of Bitcoin using Long Short-Term Memory (LSTM), a type of recurrent neural network (RNN), which is well-suited for time-series data.\n",
    "\n",
    "## Project Overview:\n",
    "\n",
    "- **Data Acquisition**: We collect historical Bitcoin price data from a reliable source such as Yahoo Finance using web scraping techniques.\n",
    "- **Data Preprocessing**: We preprocess the raw data by cleaning, scaling, and structuring it into appropriate input-output pairs for training the LSTM model.\n",
    "- **Model Building**: We construct an LSTM model using the TensorFlow Keras API, comprising input, LSTM, dropout, and dense layers to learn and predict Bitcoin prices based on historical data.\n",
    "- **Model Training**: We train the LSTM model on the prepared data, optimizing it to minimize the mean squared error loss and preventing overfitting using dropout regularization and early stopping.\n",
    "- **Evaluation**: We evaluate the trained model's performance on a separate test set to assess its ability to generalize to unseen data.\n",
    "- **Visualization**: We visualize the predicted Bitcoin prices against the actual prices using Matplotlib, providing insights into the model's performance.\n",
    "- **Prediction for Tomorrow**: Finally, we predict the Bitcoin price for tomorrow using the trained LSTM model, enabling us to forecast future price trends.\n",
    "\n",
    "## Tools and Libraries:\n",
    "\n",
    "- Python: Programming language for data preprocessing, model building, and visualization.\n",
    "- TensorFlow: Deep learning framework for building and training LSTM models.\n",
    "- BeautifulSoup: Python library for web scraping to collect Bitcoin price data.\n",
    "- Pandas: Data manipulation library for handling tabular data efficiently.\n",
    "- Matplotlib: Data visualization library for plotting the predicted vs actual Bitcoin prices.\n",
    "\n",
    "By leveraging LSTM models and deep learning techniques, this project aims to provide valuable insights into Bitcoin price movements and facilitate informed decision-making for investors and traders in the cryptocurrency market.\n"
   ]
  },
  {
   "cell_type": "markdown",
   "metadata": {},
   "source": [
    "# Importing Required Libraries\n",
    "\n",
    "In this section, we import the necessary libraries for our Bitcoin price prediction model. These include:\n",
    "\n",
    "- `requests` for making HTTP requests to fetch data from the web.\n",
    "- `BeautifulSoup` from the `bs4` package for parsing HTML and extracting data.\n",
    "- `time` for implementing delays in our web scraping process.\n"
   ]
  },
  {
   "cell_type": "code",
   "execution_count": 60,
   "metadata": {},
   "outputs": [],
   "source": [
    "import requests\n",
    "from bs4 import BeautifulSoup\n",
    "import time"
   ]
  },
  {
   "cell_type": "markdown",
   "metadata": {},
   "source": [
    "# Getting the Current Time\n",
    "\n",
    "In this section, we get the current time in Unix timestamp format (seconds since January 1, 1970). This will be useful when getting data by web scraping."
   ]
  },
  {
   "cell_type": "code",
   "execution_count": 61,
   "metadata": {},
   "outputs": [
    {
     "data": {
      "text/plain": [
       "'1717785467'"
      ]
     },
     "execution_count": 61,
     "metadata": {},
     "output_type": "execute_result"
    }
   ],
   "source": [
    "now = str(int(time.time()))\n",
    "now"
   ]
  },
  {
   "cell_type": "markdown",
   "metadata": {},
   "source": [
    "# Fetching Bitcoin Historical Data\n",
    "\n",
    "In this section, we fetch the historical Bitcoin price data from Yahoo Finance. We construct the URL with the desired time period and make an HTTP GET request using the `requests` library. \n"
   ]
  },
  {
   "cell_type": "code",
   "execution_count": 62,
   "metadata": {},
   "outputs": [
    {
     "name": "stdout",
     "output_type": "stream",
     "text": [
      "Request was successful\n"
     ]
    }
   ],
   "source": [
    "url = 'https://finance.yahoo.com/quote/BTC-USD/history/?period1=1585872000&period2=' + now\n",
    "headers = {\n",
    "    'User-Agent': 'Mozilla/5.0 (Windows NT 10.0; Win64; x64) AppleWebKit/537.36 (KHTML, like Gecko) Chrome/91.0.4472.124 Safari/537.36'\n",
    "}\n",
    "response = requests.get(url, headers=headers)\n",
    "\n",
    "# Check if the request was successful\n",
    "if response.status_code == 200:\n",
    "    print('Request was successful')\n",
    "else:\n",
    "    print('Failed to fetch data. Status code:', response.status_code)"
   ]
  },
  {
   "cell_type": "markdown",
   "metadata": {},
   "source": [
    "# Parsing the HTML Response\n",
    "\n",
    "In this section, we use BeautifulSoup to parse the HTML response from Yahoo Finance. By extracting and printing the title of the page, we can confirm that we have successfully fetched and parsed the web page."
   ]
  },
  {
   "cell_type": "code",
   "execution_count": 63,
   "metadata": {},
   "outputs": [
    {
     "data": {
      "text/plain": [
       "'Bitcoin USD (BTC-USD) Stock Historical Prices & Data - Yahoo Finance'"
      ]
     },
     "execution_count": 63,
     "metadata": {},
     "output_type": "execute_result"
    }
   ],
   "source": [
    "soup = BeautifulSoup(response.text,'html.parser')\n",
    "soup.title.text"
   ]
  },
  {
   "cell_type": "markdown",
   "metadata": {},
   "source": [
    "# Viewing the Parsed HTML Content"
   ]
  },
  {
   "cell_type": "code",
   "execution_count": 64,
   "metadata": {},
   "outputs": [
    {
     "name": "stdout",
     "output_type": "stream",
     "text": [
      "<!DOCTYPE html>\n",
      "<html class=\"desktop neo-green dock-upscale\" data-color-scheme=\"light\" lang=\"en-US\" theme=\"light\">\n",
      " <head>\n",
      "  <meta charset=\"utf-8\"/>\n",
      "  <meta content=\"width=device-width, initial-scale=1\" name=\"viewport\"/>\n",
      "  <meta content=\"guce.yahoo.com\" name=\"oath:guce:consent-host\"/>\n",
      "  <link href=\"../../../assets/_app/immutable/assets/2.B6ft43yh.css\" rel=\"stylesheet\"/>\n",
      "  <link href=\"../../../assets/_app/immutable/assets/Ads.3RMLh2mX.css\" rel=\"stylesheet\"/>\n",
      "  <link href=\"../../../assets/_app/imm\n"
     ]
    }
   ],
   "source": [
    "print(soup.prettify()[:500])"
   ]
  },
  {
   "cell_type": "markdown",
   "metadata": {},
   "source": [
    "# Extracting Table Rows\n",
    "\n",
    "In this section, we extract specific table rows containing Bitcoin price data from the parsed HTML. We use BeautifulSoup's `find_all` method to locate all table rows (`<tr>`) with the specified class attribute.\n",
    "\n",
    "- `records` stores a list of all `<tr>` elements with the class `svelte-ewueuo`.\n",
    "- We print the first five records to verify the extraction."
   ]
  },
  {
   "cell_type": "code",
   "execution_count": 65,
   "metadata": {},
   "outputs": [
    {
     "data": {
      "text/plain": [
       "[<tr class=\"svelte-ewueuo\"><th class=\"svelte-ewueuo\">Date  </th><th class=\"svelte-ewueuo\">Open  </th><th class=\"svelte-ewueuo\">High  </th><th class=\"svelte-ewueuo\">Low  </th><th class=\"svelte-ewueuo\">Close   <span class=\"container svelte-7dju6j\"><div class=\"icon fin-icon primary-icn sz-medium tw-align-text-top svelte-21xhfv\"><!-- HTML_TAG_START --><svg viewbox=\"0 0 24 24\" xmlns=\"http://www.w3.org/2000/svg\"><path d=\"M11 7h2v2h-2zm0 4h2v6h-2zm1-9C6.48 2 2 6.48 2 12s4.48 10 10 10 10-4.48 10-10S17.52 2 12 2m0 18c-4.41 0-8-3.59-8-8s3.59-8 8-8 8 3.59 8 8-3.59 8-8 8\"></path></svg><!-- HTML_TAG_END --></div> <div class=\"tooltip al-bottom svelte-7dju6j\" role=\"tooltip\"><div class=\"arrow svelte-7dju6j\"></div> <h3 class=\"title svelte-7dju6j\"></h3> <span class=\"toolTipContent svelte-ewueuo\" slot=\"content\">Close price adjusted for splits. </span></div> </span> </th><th class=\"svelte-ewueuo\">Adj Close   <span class=\"container svelte-7dju6j\"><div class=\"icon fin-icon primary-icn sz-medium tw-align-text-top svelte-21xhfv\"><!-- HTML_TAG_START --><svg viewbox=\"0 0 24 24\" xmlns=\"http://www.w3.org/2000/svg\"><path d=\"M11 7h2v2h-2zm0 4h2v6h-2zm1-9C6.48 2 2 6.48 2 12s4.48 10 10 10 10-4.48 10-10S17.52 2 12 2m0 18c-4.41 0-8-3.59-8-8s3.59-8 8-8 8 3.59 8 8-3.59 8-8 8\"></path></svg><!-- HTML_TAG_END --></div> <div class=\"tooltip al-bottom svelte-7dju6j\" role=\"tooltip\"><div class=\"arrow svelte-7dju6j\"></div> <h3 class=\"title svelte-7dju6j\"></h3> <span class=\"toolTipContent svelte-ewueuo\" slot=\"content\">Adjusted close price adjusted for splits and dividend and/or capital gain distributions. </span></div> </span> </th><th class=\"svelte-ewueuo\">Volume  </th></tr>,\n",
       " <tr class=\"svelte-ewueuo\"><td class=\"svelte-ewueuo\">Jun 7, 2024</td> <td class=\"svelte-ewueuo\">70,772.41</td> <td class=\"svelte-ewueuo\">71,907.83</td> <td class=\"svelte-ewueuo\">68,507.26</td> <td class=\"svelte-ewueuo\">69,153.80</td> <td class=\"svelte-ewueuo\">69,153.80</td> <td class=\"svelte-ewueuo\">34,698,813,440</td> </tr>,\n",
       " <tr class=\"svelte-ewueuo\"><td class=\"svelte-ewueuo\">Jun 6, 2024</td> <td class=\"svelte-ewueuo\">71,082.84</td> <td class=\"svelte-ewueuo\">71,625.73</td> <td class=\"svelte-ewueuo\">70,119.13</td> <td class=\"svelte-ewueuo\">70,757.16</td> <td class=\"svelte-ewueuo\">70,757.16</td> <td class=\"svelte-ewueuo\">25,223,152,007</td> </tr>,\n",
       " <tr class=\"svelte-ewueuo\"><td class=\"svelte-ewueuo\">Jun 5, 2024</td> <td class=\"svelte-ewueuo\">70,568.35</td> <td class=\"svelte-ewueuo\">71,735.41</td> <td class=\"svelte-ewueuo\">70,390.71</td> <td class=\"svelte-ewueuo\">71,082.82</td> <td class=\"svelte-ewueuo\">71,082.82</td> <td class=\"svelte-ewueuo\">32,810,771,409</td> </tr>,\n",
       " <tr class=\"svelte-ewueuo\"><td class=\"svelte-ewueuo\">Jun 4, 2024</td> <td class=\"svelte-ewueuo\">68,804.57</td> <td class=\"svelte-ewueuo\">71,047.41</td> <td class=\"svelte-ewueuo\">68,564.64</td> <td class=\"svelte-ewueuo\">70,567.77</td> <td class=\"svelte-ewueuo\">70,567.77</td> <td class=\"svelte-ewueuo\">33,149,696,545</td> </tr>]"
      ]
     },
     "execution_count": 65,
     "metadata": {},
     "output_type": "execute_result"
    }
   ],
   "source": [
    "records = soup.find_all('tr', class_='svelte-ewueuo')\n",
    "records[:5]"
   ]
  },
  {
   "cell_type": "markdown",
   "metadata": {},
   "source": [
    "# Analyzing the Extracted Data\n",
    "\n",
    "In this section, we analyze the extracted data by checking the total number of records and estimating the number of years of data available. This helps us understand the scope and coverage of our dataset.\n"
   ]
  },
  {
   "cell_type": "code",
   "execution_count": 66,
   "metadata": {},
   "outputs": [
    {
     "name": "stdout",
     "output_type": "stream",
     "text": [
      "total records count:  1528\n",
      "data of 4.19 years\n"
     ]
    }
   ],
   "source": [
    "print('total records count: ', len(records))\n",
    "print('data of %.2f years' % (len(records)/365))"
   ]
  },
  {
   "cell_type": "markdown",
   "metadata": {},
   "source": [
    "# Extracting Dates and Prices\n",
    "\n",
    "In this section, we extract the dates and closing prices from the table rows. We iterate through the extracted records, parsing the necessary data from each row.\n",
    "\n",
    "- `date` list stores the extracted dates.\n",
    "- `price` list stores the extracted closing prices.\n",
    "- We skip the first record if it contains headers.\n",
    "\n",
    "For each record:\n",
    "- We find all `<td>` elements in the row.\n",
    "- We append the text from the first `<td>` element to the `date` list.\n",
    "- We append the text from the fifth `<td>` element to the `price` list.\n"
   ]
  },
  {
   "cell_type": "code",
   "execution_count": 67,
   "metadata": {},
   "outputs": [],
   "source": [
    "date = []\n",
    "price = []\n",
    "\n",
    "for rec in records[1:]:\n",
    "    tds = rec.find_all('td')\n",
    "    date.append(tds[0].text)\n",
    "    price.append(tds[4].text)"
   ]
  },
  {
   "cell_type": "markdown",
   "metadata": {},
   "source": [
    "# Importing Additional Libraries\n",
    "\n",
    "In this section, we import additional libraries that are essential for data manipulation and analysis:\n",
    "\n",
    "- `numpy` \n",
    "- `pandas` \n"
   ]
  },
  {
   "cell_type": "code",
   "execution_count": 68,
   "metadata": {},
   "outputs": [],
   "source": [
    "import numpy as np\n",
    "import pandas as pd"
   ]
  },
  {
   "cell_type": "markdown",
   "metadata": {},
   "source": [
    "# Creating a DataFrame\n",
    "\n",
    "In this section, we create a Pandas DataFrame from the extracted date and price data. This DataFrame will allow us to perform various data manipulation and analysis tasks efficiently.\n"
   ]
  },
  {
   "cell_type": "code",
   "execution_count": 69,
   "metadata": {},
   "outputs": [
    {
     "data": {
      "text/html": [
       "<div>\n",
       "<style scoped>\n",
       "    .dataframe tbody tr th:only-of-type {\n",
       "        vertical-align: middle;\n",
       "    }\n",
       "\n",
       "    .dataframe tbody tr th {\n",
       "        vertical-align: top;\n",
       "    }\n",
       "\n",
       "    .dataframe thead th {\n",
       "        text-align: right;\n",
       "    }\n",
       "</style>\n",
       "<table border=\"1\" class=\"dataframe\">\n",
       "  <thead>\n",
       "    <tr style=\"text-align: right;\">\n",
       "      <th></th>\n",
       "      <th>date</th>\n",
       "      <th>price</th>\n",
       "    </tr>\n",
       "  </thead>\n",
       "  <tbody>\n",
       "    <tr>\n",
       "      <th>0</th>\n",
       "      <td>Jun 7, 2024</td>\n",
       "      <td>69,153.80</td>\n",
       "    </tr>\n",
       "    <tr>\n",
       "      <th>1</th>\n",
       "      <td>Jun 6, 2024</td>\n",
       "      <td>70,757.16</td>\n",
       "    </tr>\n",
       "    <tr>\n",
       "      <th>2</th>\n",
       "      <td>Jun 5, 2024</td>\n",
       "      <td>71,082.82</td>\n",
       "    </tr>\n",
       "    <tr>\n",
       "      <th>3</th>\n",
       "      <td>Jun 4, 2024</td>\n",
       "      <td>70,567.77</td>\n",
       "    </tr>\n",
       "    <tr>\n",
       "      <th>4</th>\n",
       "      <td>Jun 3, 2024</td>\n",
       "      <td>68,804.78</td>\n",
       "    </tr>\n",
       "  </tbody>\n",
       "</table>\n",
       "</div>"
      ],
      "text/plain": [
       "          date      price\n",
       "0  Jun 7, 2024  69,153.80\n",
       "1  Jun 6, 2024  70,757.16\n",
       "2  Jun 5, 2024  71,082.82\n",
       "3  Jun 4, 2024  70,567.77\n",
       "4  Jun 3, 2024  68,804.78"
      ]
     },
     "execution_count": 69,
     "metadata": {},
     "output_type": "execute_result"
    }
   ],
   "source": [
    "df = pd.DataFrame({'date':date, 'price':price})\n",
    "df.head()"
   ]
  },
  {
   "cell_type": "markdown",
   "metadata": {},
   "source": [
    "# Data Cleaning and Preprocessing\n",
    "\n",
    "In this section, we perform data cleaning and preprocessing on the DataFrame:\n",
    "\n",
    "1. **Cleaning Price Data**: We remove commas from the 'price' column and convert the values to floating-point numbers using the `.str.replace()` and `.astype(float)` methods.\n",
    "\n",
    "2. **Converting Date Data**: We convert the 'date' column to datetime format using the `pd.to_datetime()` function, specifying the format as '%b %d, %Y' to match the date format in the data.\n",
    "\n",
    "3. **Setting Date as Index**: We set the 'date' column as the index of the DataFrame using the `.set_index()` method, ensuring easy access and manipulation of time-series data."
   ]
  },
  {
   "cell_type": "code",
   "execution_count": 70,
   "metadata": {},
   "outputs": [
    {
     "data": {
      "text/html": [
       "<div>\n",
       "<style scoped>\n",
       "    .dataframe tbody tr th:only-of-type {\n",
       "        vertical-align: middle;\n",
       "    }\n",
       "\n",
       "    .dataframe tbody tr th {\n",
       "        vertical-align: top;\n",
       "    }\n",
       "\n",
       "    .dataframe thead th {\n",
       "        text-align: right;\n",
       "    }\n",
       "</style>\n",
       "<table border=\"1\" class=\"dataframe\">\n",
       "  <thead>\n",
       "    <tr style=\"text-align: right;\">\n",
       "      <th></th>\n",
       "      <th>price</th>\n",
       "    </tr>\n",
       "    <tr>\n",
       "      <th>date</th>\n",
       "      <th></th>\n",
       "    </tr>\n",
       "  </thead>\n",
       "  <tbody>\n",
       "    <tr>\n",
       "      <th>2024-06-07</th>\n",
       "      <td>69153.80</td>\n",
       "    </tr>\n",
       "    <tr>\n",
       "      <th>2024-06-06</th>\n",
       "      <td>70757.16</td>\n",
       "    </tr>\n",
       "    <tr>\n",
       "      <th>2024-06-05</th>\n",
       "      <td>71082.82</td>\n",
       "    </tr>\n",
       "    <tr>\n",
       "      <th>2024-06-04</th>\n",
       "      <td>70567.77</td>\n",
       "    </tr>\n",
       "    <tr>\n",
       "      <th>2024-06-03</th>\n",
       "      <td>68804.78</td>\n",
       "    </tr>\n",
       "  </tbody>\n",
       "</table>\n",
       "</div>"
      ],
      "text/plain": [
       "               price\n",
       "date                \n",
       "2024-06-07  69153.80\n",
       "2024-06-06  70757.16\n",
       "2024-06-05  71082.82\n",
       "2024-06-04  70567.77\n",
       "2024-06-03  68804.78"
      ]
     },
     "execution_count": 70,
     "metadata": {},
     "output_type": "execute_result"
    }
   ],
   "source": [
    "df['price'] = df['price'].str.replace(',', '').astype(float)\n",
    "\n",
    "df['date'] = pd.to_datetime(df['date'], format='%b %d, %Y')\n",
    "df.set_index('date', inplace=True)\n",
    "\n",
    "df.head()"
   ]
  },
  {
   "cell_type": "markdown",
   "metadata": {},
   "source": [
    "# Data Scaling\n",
    "\n",
    "In this section, we scale the 'price' data using Min-Max scaling to normalize it within the range of 0 to 1. This scaling technique is commonly used to standardize numerical features for machine learning models."
   ]
  },
  {
   "cell_type": "code",
   "execution_count": 71,
   "metadata": {},
   "outputs": [],
   "source": [
    "from sklearn.preprocessing import MinMaxScaler\n",
    "\n",
    "scaler = MinMaxScaler(feature_range=(0, 1))\n",
    "scaled_data = scaler.fit_transform(df['price'].values.reshape(-1, 1))"
   ]
  },
  {
   "cell_type": "code",
   "execution_count": 72,
   "metadata": {},
   "outputs": [
    {
     "data": {
      "text/plain": [
       "array([[0.94085464],\n",
       "       [0.96498658],\n",
       "       [0.96988805],\n",
       "       ...,\n",
       "       [0.00224288],\n",
       "       [0.00339276],\n",
       "       [0.00137384]])"
      ]
     },
     "execution_count": 72,
     "metadata": {},
     "output_type": "execute_result"
    }
   ],
   "source": [
    "scaled_data"
   ]
  },
  {
   "cell_type": "markdown",
   "metadata": {},
   "source": [
    "# Time Series Data Preparation\n",
    "\n",
    "In this section, we prepare the time series data for training a machine learning model. We create input-output pairs for a sliding window approach:\n",
    "\n",
    "- We define a `time_step` variable indicating the number of time steps (or lag observations) to use for predicting the next value.\n",
    "- We initialize empty lists `X` and `Y` to store input sequences and corresponding output values.\n",
    "- We loop through the scaled data to create input-output pairs, where each input sequence (`X`) contains `time_step` consecutive values, and the corresponding output (`Y`) is the next value after the sequence.\n",
    "- Finally, we convert the lists to numpy arrays and reshape `X` to match the input shape required by the model.\n"
   ]
  },
  {
   "cell_type": "code",
   "execution_count": 73,
   "metadata": {},
   "outputs": [],
   "source": [
    "time_step = 10\n",
    "X, Y = [], []\n",
    "\n",
    "for i in range(len(scaled_data) - time_step - 1):\n",
    "    X.append(scaled_data[i:(i + time_step), 0])\n",
    "    Y.append(scaled_data[i + time_step, 0])\n",
    "    \n",
    "X, Y = np.array(X), np.array(Y)\n",
    "X = X.reshape(X.shape[0], X.shape[1], 1)"
   ]
  },
  {
   "cell_type": "code",
   "execution_count": 74,
   "metadata": {},
   "outputs": [
    {
     "name": "stdout",
     "output_type": "stream",
     "text": [
      "data of previous 10 days :\n",
      " [[0.94085464]\n",
      " [0.96498658]\n",
      " [0.96988805]\n",
      " [0.9621361 ]\n",
      " [0.93560159]\n",
      " [0.91975032]\n",
      " [0.91907815]\n",
      " [0.91583424]\n",
      " [0.92898237]\n",
      " [0.91713885]]\n",
      "\n",
      "label (btc price of today) :\n",
      " 0.9279473231971818\n"
     ]
    }
   ],
   "source": [
    "print('data of previous 10 days :\\n',X[0])\n",
    "print('\\nlabel (btc price of today) :\\n',Y[0])"
   ]
  },
  {
   "cell_type": "markdown",
   "metadata": {},
   "source": [
    "# Splitting the Data into Train, Validation, and Test Sets\n",
    "\n",
    "In this section, we split the prepared data into train, validation, and test sets:\n",
    "\n",
    "1. **Train Set**: The first 70% of the data is allocated for training.\n",
    "2. **Validation Set**: The next 10% of the data is allocated for validation to monitor the model's performance during training.\n",
    "3. **Test Set**: The remaining 20% of the data is allocated for testing to evaluate the final model performance."
   ]
  },
  {
   "cell_type": "code",
   "execution_count": 75,
   "metadata": {},
   "outputs": [
    {
     "name": "stdout",
     "output_type": "stream",
     "text": [
      "train set len:  1061\n",
      "validation set len:  151\n",
      "test set len:  304\n"
     ]
    }
   ],
   "source": [
    "split_point1 = int(0.7 * len(X))\n",
    "split_point2 = int(0.8 * len(X))\n",
    "\n",
    "x_train = X[:split_point1]\n",
    "y_train = Y[:split_point1]\n",
    "\n",
    "x_val = X[split_point1:split_point2]\n",
    "y_val = Y[split_point1:split_point2]\n",
    "\n",
    "x_test = X[split_point2:]\n",
    "y_test = Y[split_point2:]\n",
    "\n",
    "print('train set len: ', len(x_train))\n",
    "print('validation set len: ', len(x_val))\n",
    "print('test set len: ', len(x_test))"
   ]
  },
  {
   "cell_type": "markdown",
   "metadata": {},
   "source": [
    "# Training the LSTM Model\n",
    "\n",
    "In this section, we train the LSTM model using the prepared train and validation sets:\n",
    "\n",
    "- We define the LSTM model architecture with input shape `(time_step, 1)` and layers comprising LSTM, Dropout, and Dense layers.\n",
    "- The model is compiled with the Adam optimizer and mean squared error loss function.\n",
    "- We set up early stopping to monitor the validation loss and restore the best weights when training stops if the validation loss does not decrease for 5 consecutive epochs (`patience=5`).\n",
    "- The model is trained using the `fit` method with the training data (`x_train`, `y_train`) and validation data (`x_val`, `y_val`), with a batch size of 32 and for a maximum of 50 epochs.\n",
    "\n",
    "The training history (`hist`) contains information about the training and validation loss over epochs.\n"
   ]
  },
  {
   "cell_type": "code",
   "execution_count": 76,
   "metadata": {},
   "outputs": [
    {
     "name": "stdout",
     "output_type": "stream",
     "text": [
      "Epoch 1/50\n",
      "\u001b[1m34/34\u001b[0m \u001b[32m━━━━━━━━━━━━━━━━━━━━\u001b[0m\u001b[37m\u001b[0m \u001b[1m2s\u001b[0m 14ms/step - loss: 0.0696 - val_loss: 0.0051\n",
      "Epoch 2/50\n",
      "\u001b[1m34/34\u001b[0m \u001b[32m━━━━━━━━━━━━━━━━━━━━\u001b[0m\u001b[37m\u001b[0m \u001b[1m0s\u001b[0m 6ms/step - loss: 0.0063 - val_loss: 0.0045\n",
      "Epoch 3/50\n",
      "\u001b[1m34/34\u001b[0m \u001b[32m━━━━━━━━━━━━━━━━━━━━\u001b[0m\u001b[37m\u001b[0m \u001b[1m0s\u001b[0m 7ms/step - loss: 0.0037 - val_loss: 0.0043\n",
      "Epoch 4/50\n",
      "\u001b[1m34/34\u001b[0m \u001b[32m━━━━━━━━━━━━━━━━━━━━\u001b[0m\u001b[37m\u001b[0m \u001b[1m0s\u001b[0m 6ms/step - loss: 0.0036 - val_loss: 0.0043\n",
      "Epoch 5/50\n",
      "\u001b[1m34/34\u001b[0m \u001b[32m━━━━━━━━━━━━━━━━━━━━\u001b[0m\u001b[37m\u001b[0m \u001b[1m0s\u001b[0m 6ms/step - loss: 0.0030 - val_loss: 0.0048\n",
      "Epoch 6/50\n",
      "\u001b[1m34/34\u001b[0m \u001b[32m━━━━━━━━━━━━━━━━━━━━\u001b[0m\u001b[37m\u001b[0m \u001b[1m0s\u001b[0m 7ms/step - loss: 0.0031 - val_loss: 0.0041\n",
      "Epoch 7/50\n",
      "\u001b[1m34/34\u001b[0m \u001b[32m━━━━━━━━━━━━━━━━━━━━\u001b[0m\u001b[37m\u001b[0m \u001b[1m0s\u001b[0m 6ms/step - loss: 0.0027 - val_loss: 0.0041\n",
      "Epoch 8/50\n",
      "\u001b[1m34/34\u001b[0m \u001b[32m━━━━━━━━━━━━━━━━━━━━\u001b[0m\u001b[37m\u001b[0m \u001b[1m0s\u001b[0m 6ms/step - loss: 0.0026 - val_loss: 0.0042\n",
      "Epoch 9/50\n",
      "\u001b[1m34/34\u001b[0m \u001b[32m━━━━━━━━━━━━━━━━━━━━\u001b[0m\u001b[37m\u001b[0m \u001b[1m0s\u001b[0m 7ms/step - loss: 0.0026 - val_loss: 0.0043\n",
      "Epoch 10/50\n",
      "\u001b[1m34/34\u001b[0m \u001b[32m━━━━━━━━━━━━━━━━━━━━\u001b[0m\u001b[37m\u001b[0m \u001b[1m0s\u001b[0m 7ms/step - loss: 0.0022 - val_loss: 0.0056\n",
      "Epoch 11/50\n",
      "\u001b[1m34/34\u001b[0m \u001b[32m━━━━━━━━━━━━━━━━━━━━\u001b[0m\u001b[37m\u001b[0m \u001b[1m0s\u001b[0m 6ms/step - loss: 0.0030 - val_loss: 0.0041\n",
      "Epoch 12/50\n",
      "\u001b[1m34/34\u001b[0m \u001b[32m━━━━━━━━━━━━━━━━━━━━\u001b[0m\u001b[37m\u001b[0m \u001b[1m0s\u001b[0m 7ms/step - loss: 0.0020 - val_loss: 0.0041\n",
      "Epoch 13/50\n",
      "\u001b[1m34/34\u001b[0m \u001b[32m━━━━━━━━━━━━━━━━━━━━\u001b[0m\u001b[37m\u001b[0m \u001b[1m0s\u001b[0m 7ms/step - loss: 0.0024 - val_loss: 0.0051\n",
      "Epoch 14/50\n",
      "\u001b[1m34/34\u001b[0m \u001b[32m━━━━━━━━━━━━━━━━━━━━\u001b[0m\u001b[37m\u001b[0m \u001b[1m0s\u001b[0m 8ms/step - loss: 0.0025 - val_loss: 0.0038\n",
      "Epoch 15/50\n",
      "\u001b[1m34/34\u001b[0m \u001b[32m━━━━━━━━━━━━━━━━━━━━\u001b[0m\u001b[37m\u001b[0m \u001b[1m0s\u001b[0m 7ms/step - loss: 0.0019 - val_loss: 0.0038\n",
      "Epoch 16/50\n",
      "\u001b[1m34/34\u001b[0m \u001b[32m━━━━━━━━━━━━━━━━━━━━\u001b[0m\u001b[37m\u001b[0m \u001b[1m0s\u001b[0m 8ms/step - loss: 0.0018 - val_loss: 0.0035\n",
      "Epoch 17/50\n",
      "\u001b[1m34/34\u001b[0m \u001b[32m━━━━━━━━━━━━━━━━━━━━\u001b[0m\u001b[37m\u001b[0m \u001b[1m0s\u001b[0m 8ms/step - loss: 0.0022 - val_loss: 0.0035\n",
      "Epoch 18/50\n",
      "\u001b[1m34/34\u001b[0m \u001b[32m━━━━━━━━━━━━━━━━━━━━\u001b[0m\u001b[37m\u001b[0m \u001b[1m0s\u001b[0m 9ms/step - loss: 0.0016 - val_loss: 0.0036\n",
      "Epoch 19/50\n",
      "\u001b[1m34/34\u001b[0m \u001b[32m━━━━━━━━━━━━━━━━━━━━\u001b[0m\u001b[37m\u001b[0m \u001b[1m0s\u001b[0m 9ms/step - loss: 0.0024 - val_loss: 0.0033\n",
      "Epoch 20/50\n",
      "\u001b[1m34/34\u001b[0m \u001b[32m━━━━━━━━━━━━━━━━━━━━\u001b[0m\u001b[37m\u001b[0m \u001b[1m0s\u001b[0m 9ms/step - loss: 0.0018 - val_loss: 0.0033\n",
      "Epoch 21/50\n",
      "\u001b[1m34/34\u001b[0m \u001b[32m━━━━━━━━━━━━━━━━━━━━\u001b[0m\u001b[37m\u001b[0m \u001b[1m0s\u001b[0m 8ms/step - loss: 0.0018 - val_loss: 0.0032\n",
      "Epoch 22/50\n",
      "\u001b[1m34/34\u001b[0m \u001b[32m━━━━━━━━━━━━━━━━━━━━\u001b[0m\u001b[37m\u001b[0m \u001b[1m0s\u001b[0m 7ms/step - loss: 0.0020 - val_loss: 0.0034\n",
      "Epoch 23/50\n",
      "\u001b[1m34/34\u001b[0m \u001b[32m━━━━━━━━━━━━━━━━━━━━\u001b[0m\u001b[37m\u001b[0m \u001b[1m0s\u001b[0m 7ms/step - loss: 0.0015 - val_loss: 0.0034\n",
      "Epoch 24/50\n",
      "\u001b[1m34/34\u001b[0m \u001b[32m━━━━━━━━━━━━━━━━━━━━\u001b[0m\u001b[37m\u001b[0m \u001b[1m0s\u001b[0m 8ms/step - loss: 0.0016 - val_loss: 0.0030\n",
      "Epoch 25/50\n",
      "\u001b[1m34/34\u001b[0m \u001b[32m━━━━━━━━━━━━━━━━━━━━\u001b[0m\u001b[37m\u001b[0m \u001b[1m0s\u001b[0m 11ms/step - loss: 0.0014 - val_loss: 0.0032\n",
      "Epoch 26/50\n",
      "\u001b[1m34/34\u001b[0m \u001b[32m━━━━━━━━━━━━━━━━━━━━\u001b[0m\u001b[37m\u001b[0m \u001b[1m1s\u001b[0m 19ms/step - loss: 0.0014 - val_loss: 0.0034\n",
      "Epoch 27/50\n",
      "\u001b[1m34/34\u001b[0m \u001b[32m━━━━━━━━━━━━━━━━━━━━\u001b[0m\u001b[37m\u001b[0m \u001b[1m0s\u001b[0m 7ms/step - loss: 0.0015 - val_loss: 0.0028\n",
      "Epoch 28/50\n",
      "\u001b[1m34/34\u001b[0m \u001b[32m━━━━━━━━━━━━━━━━━━━━\u001b[0m\u001b[37m\u001b[0m \u001b[1m0s\u001b[0m 7ms/step - loss: 0.0015 - val_loss: 0.0035\n",
      "Epoch 29/50\n",
      "\u001b[1m34/34\u001b[0m \u001b[32m━━━━━━━━━━━━━━━━━━━━\u001b[0m\u001b[37m\u001b[0m \u001b[1m0s\u001b[0m 7ms/step - loss: 0.0014 - val_loss: 0.0028\n",
      "Epoch 30/50\n",
      "\u001b[1m34/34\u001b[0m \u001b[32m━━━━━━━━━━━━━━━━━━━━\u001b[0m\u001b[37m\u001b[0m \u001b[1m0s\u001b[0m 8ms/step - loss: 0.0013 - val_loss: 0.0027\n",
      "Epoch 31/50\n",
      "\u001b[1m34/34\u001b[0m \u001b[32m━━━━━━━━━━━━━━━━━━━━\u001b[0m\u001b[37m\u001b[0m \u001b[1m0s\u001b[0m 7ms/step - loss: 0.0016 - val_loss: 0.0026\n",
      "Epoch 32/50\n",
      "\u001b[1m34/34\u001b[0m \u001b[32m━━━━━━━━━━━━━━━━━━━━\u001b[0m\u001b[37m\u001b[0m \u001b[1m0s\u001b[0m 7ms/step - loss: 0.0014 - val_loss: 0.0040\n",
      "Epoch 33/50\n",
      "\u001b[1m34/34\u001b[0m \u001b[32m━━━━━━━━━━━━━━━━━━━━\u001b[0m\u001b[37m\u001b[0m \u001b[1m0s\u001b[0m 7ms/step - loss: 0.0017 - val_loss: 0.0029\n",
      "Epoch 34/50\n",
      "\u001b[1m34/34\u001b[0m \u001b[32m━━━━━━━━━━━━━━━━━━━━\u001b[0m\u001b[37m\u001b[0m \u001b[1m0s\u001b[0m 7ms/step - loss: 0.0012 - val_loss: 0.0025\n",
      "Epoch 35/50\n",
      "\u001b[1m34/34\u001b[0m \u001b[32m━━━━━━━━━━━━━━━━━━━━\u001b[0m\u001b[37m\u001b[0m \u001b[1m0s\u001b[0m 7ms/step - loss: 0.0013 - val_loss: 0.0025\n",
      "Epoch 36/50\n",
      "\u001b[1m34/34\u001b[0m \u001b[32m━━━━━━━━━━━━━━━━━━━━\u001b[0m\u001b[37m\u001b[0m \u001b[1m0s\u001b[0m 7ms/step - loss: 0.0011 - val_loss: 0.0025\n",
      "Epoch 37/50\n",
      "\u001b[1m34/34\u001b[0m \u001b[32m━━━━━━━━━━━━━━━━━━━━\u001b[0m\u001b[37m\u001b[0m \u001b[1m0s\u001b[0m 7ms/step - loss: 0.0012 - val_loss: 0.0024\n",
      "Epoch 38/50\n",
      "\u001b[1m34/34\u001b[0m \u001b[32m━━━━━━━━━━━━━━━━━━━━\u001b[0m\u001b[37m\u001b[0m \u001b[1m0s\u001b[0m 9ms/step - loss: 0.0011 - val_loss: 0.0023\n",
      "Epoch 39/50\n",
      "\u001b[1m34/34\u001b[0m \u001b[32m━━━━━━━━━━━━━━━━━━━━\u001b[0m\u001b[37m\u001b[0m \u001b[1m0s\u001b[0m 6ms/step - loss: 0.0014 - val_loss: 0.0023\n",
      "Epoch 40/50\n",
      "\u001b[1m34/34\u001b[0m \u001b[32m━━━━━━━━━━━━━━━━━━━━\u001b[0m\u001b[37m\u001b[0m \u001b[1m0s\u001b[0m 6ms/step - loss: 0.0010 - val_loss: 0.0023\n",
      "Epoch 41/50\n",
      "\u001b[1m34/34\u001b[0m \u001b[32m━━━━━━━━━━━━━━━━━━━━\u001b[0m\u001b[37m\u001b[0m \u001b[1m0s\u001b[0m 8ms/step - loss: 0.0015 - val_loss: 0.0023\n",
      "Epoch 42/50\n",
      "\u001b[1m34/34\u001b[0m \u001b[32m━━━━━━━━━━━━━━━━━━━━\u001b[0m\u001b[37m\u001b[0m \u001b[1m0s\u001b[0m 8ms/step - loss: 0.0012 - val_loss: 0.0023\n",
      "Epoch 43/50\n",
      "\u001b[1m34/34\u001b[0m \u001b[32m━━━━━━━━━━━━━━━━━━━━\u001b[0m\u001b[37m\u001b[0m \u001b[1m0s\u001b[0m 7ms/step - loss: 0.0011 - val_loss: 0.0024\n",
      "Epoch 44/50\n",
      "\u001b[1m34/34\u001b[0m \u001b[32m━━━━━━━━━━━━━━━━━━━━\u001b[0m\u001b[37m\u001b[0m \u001b[1m0s\u001b[0m 7ms/step - loss: 0.0012 - val_loss: 0.0024\n",
      "Epoch 45/50\n",
      "\u001b[1m34/34\u001b[0m \u001b[32m━━━━━━━━━━━━━━━━━━━━\u001b[0m\u001b[37m\u001b[0m \u001b[1m0s\u001b[0m 7ms/step - loss: 0.0013 - val_loss: 0.0022\n",
      "Epoch 46/50\n",
      "\u001b[1m34/34\u001b[0m \u001b[32m━━━━━━━━━━━━━━━━━━━━\u001b[0m\u001b[37m\u001b[0m \u001b[1m0s\u001b[0m 7ms/step - loss: 0.0013 - val_loss: 0.0021\n",
      "Epoch 47/50\n",
      "\u001b[1m34/34\u001b[0m \u001b[32m━━━━━━━━━━━━━━━━━━━━\u001b[0m\u001b[37m\u001b[0m \u001b[1m0s\u001b[0m 7ms/step - loss: 9.7011e-04 - val_loss: 0.0021\n",
      "Epoch 48/50\n",
      "\u001b[1m34/34\u001b[0m \u001b[32m━━━━━━━━━━━━━━━━━━━━\u001b[0m\u001b[37m\u001b[0m \u001b[1m0s\u001b[0m 7ms/step - loss: 0.0013 - val_loss: 0.0022\n",
      "Epoch 49/50\n",
      "\u001b[1m34/34\u001b[0m \u001b[32m━━━━━━━━━━━━━━━━━━━━\u001b[0m\u001b[37m\u001b[0m \u001b[1m0s\u001b[0m 8ms/step - loss: 0.0011 - val_loss: 0.0021\n",
      "Epoch 50/50\n",
      "\u001b[1m34/34\u001b[0m \u001b[32m━━━━━━━━━━━━━━━━━━━━\u001b[0m\u001b[37m\u001b[0m \u001b[1m0s\u001b[0m 7ms/step - loss: 0.0012 - val_loss: 0.0021\n"
     ]
    }
   ],
   "source": [
    "from tensorflow.keras.models import Sequential\n",
    "from tensorflow.keras.layers import LSTM, Dense, Input, Dropout\n",
    "from tensorflow.keras.callbacks import EarlyStopping\n",
    "\n",
    "model = Sequential()\n",
    "model.add(Input(shape=(time_step, 1)))\n",
    "model.add(LSTM(50, return_sequences=True))\n",
    "model.add(Dropout(0.2))\n",
    "model.add(LSTM(50, return_sequences=False))\n",
    "model.add(Dropout(0.2))\n",
    "model.add(Dense(25))\n",
    "model.add(Dense(1))\n",
    "\n",
    "model.compile(optimizer='adam', loss='mean_squared_error')\n",
    "\n",
    "early_stopping = EarlyStopping(monitor='val_loss', patience=5, restore_best_weights=True)\n",
    "\n",
    "hist = model.fit(x_train, y_train, batch_size=32, epochs=50, validation_data=(x_val, y_val), callbacks=[early_stopping])"
   ]
  },
  {
   "cell_type": "markdown",
   "metadata": {},
   "source": [
    "# Visualizing Predicted vs Actual Prices\n",
    "\n",
    "In this section, we visualize the predicted and actual prices using the trained LSTM model:\n",
    "\n",
    "- We make predictions (`pred`) on the entire dataset (`X`) using the trained model.\n",
    "\n",
    "The visualization allows us to visually compare the predicted prices with the actual prices, assessing the performance of the LSTM model."
   ]
  },
  {
   "cell_type": "code",
   "execution_count": 77,
   "metadata": {},
   "outputs": [
    {
     "name": "stdout",
     "output_type": "stream",
     "text": [
      "\u001b[1m48/48\u001b[0m \u001b[32m━━━━━━━━━━━━━━━━━━━━\u001b[0m\u001b[37m\u001b[0m \u001b[1m1s\u001b[0m 7ms/step\n"
     ]
    }
   ],
   "source": [
    "pred = model.predict(X)\n",
    "pred = scaler.inverse_transform(pred)"
   ]
  },
  {
   "cell_type": "code",
   "execution_count": 78,
   "metadata": {},
   "outputs": [
    {
     "data": {
      "image/png": "[encoded data removed]",
      "text/plain": [
       "<Figure size 800x400 with 1 Axes>"
      ]
     },
     "metadata": {},
     "output_type": "display_data"
    }
   ],
   "source": [
    "import matplotlib.pyplot as plt\n",
    "plt.figure(figsize=(8, 4))\n",
    "plt.plot(df.index[:len(pred)], pred, label='Predicted Price')\n",
    "plt.plot(df.index, df['price'], label='Actual Price')\n",
    "plt.xlabel('Date')\n",
    "plt.ylabel('Price')\n",
    "plt.legend()\n",
    "plt.show()"
   ]
  },
  {
   "cell_type": "markdown",
   "metadata": {},
   "source": [
    "# Evaluating Predictions on Test Set\n",
    "\n",
    "In this section, we evaluate the predictions made by the LSTM model on the test set. The visualization allows us to assess how well the LSTM model performs in predicting Bitcoin prices on unseen data."
   ]
  },
  {
   "cell_type": "code",
   "execution_count": 84,
   "metadata": {},
   "outputs": [
    {
     "name": "stdout",
     "output_type": "stream",
     "text": [
      "\u001b[1m10/10\u001b[0m \u001b[32m━━━━━━━━━━━━━━━━━━━━\u001b[0m\u001b[37m\u001b[0m \u001b[1m0s\u001b[0m 2ms/step \n",
      "\u001b[1m10/10\u001b[0m \u001b[32m━━━━━━━━━━━━━━━━━━━━\u001b[0m\u001b[37m\u001b[0m \u001b[1m0s\u001b[0m 2ms/step - loss: 5.8989e-04\n",
      "Test Loss: 0.0002823187387548387\n"
     ]
    },
    {
     "data": {
      "image/png": "[encoded data removed]",
      "text/plain": [
       "<Figure size 1000x500 with 1 Axes>"
      ]
     },
     "metadata": {},
     "output_type": "display_data"
    }
   ],
   "source": [
    "predictions = model.predict(x_test)\n",
    "test_loss = model.evaluate(x_test, y_test)\n",
    "\n",
    "print(\"Test Loss:\", test_loss)\n",
    "\n",
    "plt.figure(figsize=(10,5))\n",
    "plt.plot(predictions, label='Predicted')\n",
    "plt.plot(y_test, label='Actual')\n",
    "plt.legend()\n",
    "plt.show()"
   ]
  },
  {
   "cell_type": "markdown",
   "metadata": {},
   "source": [
    "# Predicting Bitcoin Price for Tomorrow"
   ]
  },
  {
   "cell_type": "code",
   "execution_count": 85,
   "metadata": {},
   "outputs": [
    {
     "name": "stdout",
     "output_type": "stream",
     "text": [
      "\u001b[1m1/1\u001b[0m \u001b[32m━━━━━━━━━━━━━━━━━━━━\u001b[0m\u001b[37m\u001b[0m \u001b[1m0s\u001b[0m 20ms/step\n",
      "predicted bitcoin price for tomorrow: 66454.773\n"
     ]
    }
   ],
   "source": [
    "tomorrow_pred = model.predict(X[[0]])\n",
    "price = scaler.inverse_transform(tomorrow_pred)\n",
    "\n",
    "print('predicted bitcoin price for tomorrow: %.3f' % float(price.squeeze()))"
   ]
  }
 ],
 "metadata": {
  "kernelspec": {
   "display_name": "Python 3",
   "language": "python",
   "name": "python3"
  },
  "language_info": {
   "codemirror_mode": {
    "name": "ipython",
    "version": 3
   },
   "file_extension": ".py",
   "mimetype": "text/x-python",
   "name": "python",
   "nbconvert_exporter": "python",
   "pygments_lexer": "ipython3",
   "version": "3.11.5"
  }
 },
 "nbformat": 4,
 "nbformat_minor": 2
}
